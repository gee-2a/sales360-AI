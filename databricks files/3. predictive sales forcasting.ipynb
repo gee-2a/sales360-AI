{
 "cells": [
  {
   "cell_type": "code",
   "execution_count": 0,
   "metadata": {
    "application/vnd.databricks.v1+cell": {
     "cellMetadata": {
      "byteLimit": 2048000,
      "rowLimit": 10000
     },
     "inputWidgets": {},
     "nuid": "70cdf3ab-c75e-4d73-bf1f-91fcd1b0219b",
     "showTitle": false,
     "tableResultSettingsMap": {},
     "title": ""
    }
   },
   "outputs": [],
   "source": [
    "from pyspark.sql import SparkSession\n",
    "\n",
    "spark = SparkSession.builder.getOrCreate()\n",
    "# 1. Load cleaned sales data\n",
    "sales_df = spark.read.format(\"delta\").load(\"/mnt/cleaned_data/sales_df\")"
   ]
  },
  {
   "cell_type": "code",
   "execution_count": 0,
   "metadata": {
    "application/vnd.databricks.v1+cell": {
     "cellMetadata": {
      "byteLimit": 2048000,
      "rowLimit": 10000
     },
     "inputWidgets": {},
     "nuid": "ffc4b6be-2069-48c5-8ffa-22645f9ac777",
     "showTitle": false,
     "tableResultSettingsMap": {},
     "title": ""
    }
   },
   "outputs": [
    {
     "output_type": "stream",
     "name": "stdout",
     "output_type": "stream",
     "text": [
      "root\n |-- Product_ID: integer (nullable = true)\n |-- Sale_Date: date (nullable = true)\n |-- Sales_Rep: string (nullable = true)\n |-- Region: string (nullable = true)\n |-- Sales_Amount: double (nullable = true)\n |-- Quantity_Sold: integer (nullable = true)\n |-- Product_Category: string (nullable = true)\n |-- Unit_Cost: double (nullable = true)\n |-- Unit_Price: double (nullable = true)\n |-- Customer_Type: string (nullable = true)\n |-- Discount: double (nullable = true)\n |-- Payment_Method: string (nullable = true)\n |-- Sales_Channel: string (nullable = true)\n |-- Region_and_Sales_Rep: string (nullable = true)\n |-- Customer_ID: long (nullable = true)\n\n"
     ]
    }
   ],
   "source": [
    "sales_df.printSchema()\n"
   ]
  },
  {
   "cell_type": "code",
   "execution_count": 0,
   "metadata": {
    "application/vnd.databricks.v1+cell": {
     "cellMetadata": {
      "byteLimit": 2048000,
      "rowLimit": 10000
     },
     "inputWidgets": {},
     "nuid": "71db70eb-619a-4829-95d2-f04a4c38a8d6",
     "showTitle": false,
     "tableResultSettingsMap": {},
     "title": ""
    }
   },
   "outputs": [],
   "source": [
    "from pyspark.sql.functions import to_date, col, unix_timestamp\n",
    "from pyspark.sql.functions import sum as spark_sum\n",
    "from pyspark.ml.feature import VectorAssembler\n",
    "from pyspark.ml.regression import LinearRegression\n",
    "from datetime import datetime, timedelta\n",
    "\n",
    "# Parse dates\n",
    "sales_df = sales_df.withColumn(\"Sale_Date\", to_date(col(\"Sale_Date\")))"
   ]
  },
  {
   "cell_type": "code",
   "execution_count": 0,
   "metadata": {
    "application/vnd.databricks.v1+cell": {
     "cellMetadata": {
      "byteLimit": 2048000,
      "rowLimit": 10000
     },
     "inputWidgets": {},
     "nuid": "92910bc8-d0a8-4f86-83f6-38c63bec755e",
     "showTitle": false,
     "tableResultSettingsMap": {},
     "title": ""
    }
   },
   "outputs": [],
   "source": [
    "daily_sales = sales_df.groupBy(\"Sale_Date\").agg(\n",
    "    spark_sum(\"Sales_Amount\").alias(\"Daily_Sales\")\n",
    ")"
   ]
  },
  {
   "cell_type": "code",
   "execution_count": 0,
   "metadata": {
    "application/vnd.databricks.v1+cell": {
     "cellMetadata": {
      "byteLimit": 2048000,
      "rowLimit": 10000
     },
     "inputWidgets": {},
     "nuid": "4c994690-50da-4aca-8dd1-381251476c7c",
     "showTitle": false,
     "tableResultSettingsMap": {},
     "title": ""
    }
   },
   "outputs": [],
   "source": [
    "from pyspark.sql.functions import lit"
   ]
  },
  {
   "cell_type": "code",
   "execution_count": 0,
   "metadata": {
    "application/vnd.databricks.v1+cell": {
     "cellMetadata": {
      "byteLimit": 2048000,
      "rowLimit": 10000
     },
     "inputWidgets": {},
     "nuid": "db6d0875-7cdc-4ddb-aa07-d6f83194dd5e",
     "showTitle": false,
     "tableResultSettingsMap": {},
     "title": ""
    }
   },
   "outputs": [],
   "source": [
    "# Use earliest date as reference\n",
    "min_date = daily_sales.agg({\"Sale_Date\": \"min\"}).collect()[0][0]\n",
    "\n",
    "# Add Day_Index\n",
    "daily_sales = daily_sales.withColumn(\n",
    "    \"Day_Index\", (unix_timestamp(col(\"Sale_Date\")) - unix_timestamp(lit(min_date))) / 86400\n",
    ")\n",
    "daily_sales = daily_sales.withColumn(\"Day_Index\", col(\"Day_Index\").cast(\"double\"))  "
   ]
  },
  {
   "cell_type": "code",
   "execution_count": 0,
   "metadata": {
    "application/vnd.databricks.v1+cell": {
     "cellMetadata": {
      "byteLimit": 2048000,
      "rowLimit": 10000
     },
     "inputWidgets": {},
     "nuid": "3f4698da-92c3-487f-a273-71aa1ea37e33",
     "showTitle": false,
     "tableResultSettingsMap": {},
     "title": ""
    }
   },
   "outputs": [
    {
     "output_type": "stream",
     "name": "stdout",
     "output_type": "stream",
     "text": [
      "root\n |-- Day_Index: double (nullable = true)\n |-- Daily_Sales: double (nullable = true)\n\n+----------+------------------+---------+\n| Sale_Date|       Daily_Sales|Day_Index|\n+----------+------------------+---------+\n|2023-06-22|          22602.94|    172.0|\n|2023-07-15|           7405.74|    195.0|\n|2023-05-22| 7996.389999999999|    141.0|\n|2023-09-14|21394.420000000002|    256.0|\n|2023-11-08|10539.480000000001|    311.0|\n+----------+------------------+---------+\nonly showing top 5 rows\n\n"
     ]
    }
   ],
   "source": [
    "daily_sales.select(\"Day_Index\", \"Daily_Sales\").dropna().printSchema()\n",
    "daily_sales.show(5)"
   ]
  },
  {
   "cell_type": "code",
   "execution_count": 0,
   "metadata": {
    "application/vnd.databricks.v1+cell": {
     "cellMetadata": {
      "byteLimit": 2048000,
      "rowLimit": 10000
     },
     "inputWidgets": {},
     "nuid": "6bccffb7-ccad-4dcb-9bf8-a77d35de4208",
     "showTitle": false,
     "tableResultSettingsMap": {},
     "title": ""
    }
   },
   "outputs": [],
   "source": [
    "assembler = VectorAssembler(inputCols=[\"Day_Index\"], outputCol=\"features\")\n",
    "assembled = assembler.transform(daily_sales).select(\"features\", \"Daily_Sales\").dropna()"
   ]
  },
  {
   "cell_type": "code",
   "execution_count": 0,
   "metadata": {
    "application/vnd.databricks.v1+cell": {
     "cellMetadata": {
      "byteLimit": 2048000,
      "rowLimit": 10000
     },
     "inputWidgets": {},
     "nuid": "7a2c4e8e-de9e-4955-ab04-df767fd07466",
     "showTitle": false,
     "tableResultSettingsMap": {},
     "title": ""
    }
   },
   "outputs": [],
   "source": [
    "lr = LinearRegression(featuresCol=\"features\", labelCol=\"Daily_Sales\")\n",
    "model = lr.fit(assembled)"
   ]
  },
  {
   "cell_type": "code",
   "execution_count": 0,
   "metadata": {
    "application/vnd.databricks.v1+cell": {
     "cellMetadata": {
      "byteLimit": 2048000,
      "rowLimit": 10000
     },
     "inputWidgets": {},
     "nuid": "d8c4e6e5-ac68-4a8e-b701-896e4e04fc1b",
     "showTitle": false,
     "tableResultSettingsMap": {},
     "title": ""
    }
   },
   "outputs": [
    {
     "output_type": "stream",
     "name": "stdout",
     "output_type": "stream",
     "text": [
      "+-----------------+-------------------+------------------+\n|        Day_Index|           features|        prediction|\n+-----------------+-------------------+------------------+\n|940.6716135808798|[940.6716135808798]|15919.109769979284|\n|941.6716135810426|[941.6716135810426]| 15920.63342724081|\n|942.6716135810647|[942.6716135810647]| 15922.15708450212|\n|943.6716135810867|[943.6716135810867]| 15923.68074176343|\n|944.6716135811006|[944.6716135811006]| 15925.20439902473|\n|945.6716135811226|[945.6716135811226]| 15926.72805628604|\n|946.6716135811337|[946.6716135811337]|15928.251713547334|\n+-----------------+-------------------+------------------+\n\n"
     ]
    }
   ],
   "source": [
    "future_days = [(datetime.today() + timedelta(days=i)) for i in range(1, 8)]\n",
    "min_ts = datetime.combine(min_date, datetime.min.time()).timestamp()\n",
    "\n",
    "# Create Day_Index for future\n",
    "future_df = spark.createDataFrame(\n",
    "    [(float((d.timestamp() - min_ts)/86400),) for d in future_days], [\"Day_Index\"]\n",
    ")\n",
    "\n",
    "future_df = future_df.withColumn(\"Day_Index\", col(\"Day_Index\").cast(\"double\"))\n",
    "\n",
    "# Assemble & Predict\n",
    "future_df = assembler.transform(future_df)\n",
    "predictions = model.transform(future_df)\n",
    "predictions.show()"
   ]
  },
  {
   "cell_type": "code",
   "execution_count": 0,
   "metadata": {
    "application/vnd.databricks.v1+cell": {
     "cellMetadata": {
      "byteLimit": 2048000,
      "rowLimit": 10000
     },
     "inputWidgets": {},
     "nuid": "617da106-39e0-4943-aee0-24836eb0ff12",
     "showTitle": false,
     "tableResultSettingsMap": {},
     "title": ""
    }
   },
   "outputs": [],
   "source": [
    "import matplotlib.pyplot as plt"
   ]
  },
  {
   "cell_type": "code",
   "execution_count": 0,
   "metadata": {
    "application/vnd.databricks.v1+cell": {
     "cellMetadata": {
      "byteLimit": 2048000,
      "rowLimit": 10000
     },
     "inputWidgets": {},
     "nuid": "c4bd6f07-6a23-43a2-a69e-b9941fd74f80",
     "showTitle": false,
     "tableResultSettingsMap": {},
     "title": ""
    }
   },
   "outputs": [
    {
     "output_type": "display_data",
     "data": {
      "text/html": [
       "<style scoped>\n",
       "  .table-result-container {\n",
       "    max-height: 300px;\n",
       "    overflow: auto;\n",
       "  }\n",
       "  table, th, td {\n",
       "    border: 1px solid black;\n",
       "    border-collapse: collapse;\n",
       "  }\n",
       "  th, td {\n",
       "    padding: 5px;\n",
       "  }\n",
       "  th {\n",
       "    text-align: left;\n",
       "  }\n",
       "</style><div class='table-result-container'><table class='table-result'><thead style='background-color: white'><tr><th>Day_Index</th><th>prediction</th><th>Date</th></tr></thead><tbody><tr><td>940.6716135808798</td><td>15919.109769979284</td><td>2025-07-29T16:07:10.699783Z</td></tr><tr><td>941.6716135810426</td><td>15920.63342724081</td><td>2025-07-30T16:07:10.699801Z</td></tr><tr><td>942.6716135810647</td><td>15922.15708450212</td><td>2025-07-31T16:07:10.699805Z</td></tr><tr><td>943.6716135810867</td><td>15923.68074176343</td><td>2025-08-01T16:07:10.699809Z</td></tr><tr><td>944.6716135811006</td><td>15925.20439902473</td><td>2025-08-02T16:07:10.699813Z</td></tr><tr><td>945.6716135811226</td><td>15926.72805628604</td><td>2025-08-03T16:07:10.699817Z</td></tr><tr><td>946.6716135811337</td><td>15928.251713547334</td><td>2025-08-04T16:07:10.699821Z</td></tr></tbody></table></div>"
      ]
     },
     "metadata": {
      "application/vnd.databricks.v1+output": {
       "addedWidgets": {},
       "aggData": [],
       "aggError": "",
       "aggOverflow": false,
       "aggSchema": [],
       "aggSeriesLimitReached": false,
       "aggType": "",
       "arguments": {},
       "columnCustomDisplayInfos": {},
       "data": [
        [
         940.6716135808798,
         15919.109769979284,
         "2025-07-29T16:07:10.699783Z"
        ],
        [
         941.6716135810426,
         15920.63342724081,
         "2025-07-30T16:07:10.699801Z"
        ],
        [
         942.6716135810647,
         15922.15708450212,
         "2025-07-31T16:07:10.699805Z"
        ],
        [
         943.6716135810867,
         15923.68074176343,
         "2025-08-01T16:07:10.699809Z"
        ],
        [
         944.6716135811006,
         15925.20439902473,
         "2025-08-02T16:07:10.699813Z"
        ],
        [
         945.6716135811226,
         15926.72805628604,
         "2025-08-03T16:07:10.699817Z"
        ],
        [
         946.6716135811337,
         15928.251713547334,
         "2025-08-04T16:07:10.699821Z"
        ]
       ],
       "datasetInfos": [],
       "dbfsResultPath": null,
       "isJsonSchema": true,
       "metadata": {},
       "overflow": false,
       "plotOptions": {
        "customPlotOptions": {},
        "displayType": "table",
        "pivotAggregation": null,
        "pivotColumns": null,
        "xColumns": null,
        "yColumns": null
       },
       "removedWidgets": [],
       "schema": [
        {
         "metadata": "{}",
         "name": "Day_Index",
         "type": "\"double\""
        },
        {
         "metadata": "{}",
         "name": "prediction",
         "type": "\"double\""
        },
        {
         "metadata": "{}",
         "name": "Date",
         "type": "\"timestamp\""
        }
       ],
       "type": "table"
      }
     },
     "output_type": "display_data"
    },
    {
     "output_type": "display_data",
     "data": {
      "text/plain": [
       "Databricks visualization. Run in Databricks to view."
      ]
     },
     "metadata": {
      "application/vnd.databricks.v1.subcommand+json": {
       "baseErrorDetails": null,
       "bindings": {},
       "collapsed": false,
       "command": "%python\n__backend_agg_display_orig = display\n__backend_agg_dfs = []\ndef __backend_agg_display_new(df):\n    __backend_agg_df_modules = [\"pandas.core.frame\", \"databricks.koalas.frame\", \"pyspark.sql.dataframe\", \"pyspark.pandas.frame\", \"pyspark.sql.connect.dataframe\"]\n    if (type(df).__module__ in __backend_agg_df_modules and type(df).__name__ == 'DataFrame') or isinstance(df, list):\n        __backend_agg_dfs.append(df)\n\ndisplay = __backend_agg_display_new\n\ndef __backend_agg_user_code_fn():\n    import base64\n    exec(base64.standard_b64decode(\"CiMgQ29udmVydCBTcGFyayBwcmVkaWN0aW9ucyB0byBQYW5kYXMgRGF0YUZyYW1lCnByZWRpY3RlZF9kYXRhID0gcHJlZGljdGlvbnMuc2VsZWN0KCJEYXlfSW5kZXgiLCAicHJlZGljdGlvbiIpLnRvUGFuZGFzKCkKCiMgQWRkIGZ1dHVyZSBkYXRlcyBpZiBuZWVkZWQKZnJvbSBkYXRldGltZSBpbXBvcnQgZGF0ZXRpbWUsIHRpbWVkZWx0YQpmdXR1cmVfZGF0ZXMgPSBbKGRhdGV0aW1lLnRvZGF5KCkgKyB0aW1lZGVsdGEoZGF5cz1pKSkgZm9yIGkgaW4gcmFuZ2UoMSwgOCldCnByZWRpY3RlZF9kYXRhWyJEYXRlIl0gPSBmdXR1cmVfZGF0ZXMKZGlzcGxheShwcmVkaWN0ZWRfZGF0YSkKIyBQbG90CnBsdC5maWd1cmUoZmlnc2l6ZT0oMTAsIDUpKQpwbHQucGxvdChwcmVkaWN0ZWRfZGF0YVsiRGF0ZSJdLCBwcmVkaWN0ZWRfZGF0YVsicHJlZGljdGlvbiJdLCBtYXJrZXI9J28nLCBsaW5lc3R5bGU9Jy0nKQpwbHQudGl0bGUoIkZvcmVjYXN0ZWQgRGFpbHkgU2FsZXMgZm9yIE5leHQgNyBEYXlzIikKcGx0LnhsYWJlbCgiRGF0ZSIpCnBsdC55bGFiZWwoIlByZWRpY3RlZCBTYWxlcyIpCnBsdC54dGlja3Mocm90YXRpb249NDUpCnBsdC5ncmlkKFRydWUpCnBsdC50aWdodF9sYXlvdXQoKQpwbHQuc2hvdygp\").decode())\n\ntry:\n    # run user code\n    __backend_agg_user_code_fn()\n\n    #reset display function\n    display = __backend_agg_display_orig\n\n    if len(__backend_agg_dfs) > 0:\n        # create a temp view\n        if type(__backend_agg_dfs[0]).__module__ == \"databricks.koalas.frame\":\n            # koalas dataframe\n            __backend_agg_dfs[0].to_spark().createOrReplaceTempView(\"DatabricksView8409850\")\n        elif type(__backend_agg_dfs[0]).__module__ == \"pandas.core.frame\" or isinstance(__backend_agg_dfs[0], list):\n            # pandas dataframe\n            spark.createDataFrame(__backend_agg_dfs[0]).createOrReplaceTempView(\"DatabricksView8409850\")\n        else:\n            __backend_agg_dfs[0].createOrReplaceTempView(\"DatabricksView8409850\")\n        #run backend agg\n        display(spark.sql(\"\"\"WITH q AS (select * from DatabricksView8409850) SELECT SUM(`prediction`) `column_3866fbff718`,`Day_Index` FROM q GROUP BY `Day_Index`\"\"\"))\n    else:\n        displayHTML(\"dataframe no longer exists. If you're using dataframe.display(), use display(dataframe) instead.\")\n\n\nfinally:\n    spark.sql(\"drop view if exists DatabricksView8409850\")\n    display = __backend_agg_display_orig\n    del __backend_agg_display_new\n    del __backend_agg_display_orig\n    del __backend_agg_dfs\n    del __backend_agg_user_code_fn\n\n",
       "commandTitle": "Visualization 1",
       "commandType": "auto",
       "commandVersion": 0,
       "commentThread": [],
       "commentsVisible": false,
       "contentSha256Hex": null,
       "customPlotOptions": {
        "redashChart": [
         {
          "key": "type",
          "value": "CHART"
         },
         {
          "key": "options",
          "value": {
           "alignYAxesAtZero": true,
           "coefficient": 1,
           "columnConfigurationMap": {
            "x": {
             "column": "Day_Index",
             "id": "column_3866fbff724"
            },
            "y": [
             {
              "column": "prediction",
              "id": "column_3866fbff718",
              "transform": "SUM"
             }
            ]
           },
           "dateTimeFormat": "DD/MM/YYYY HH:mm",
           "direction": {
            "type": "counterclockwise"
           },
           "error_y": {
            "type": "data",
            "visible": true
           },
           "globalSeriesType": "line",
           "isAggregationOn": true,
           "legend": {
            "traceorder": "normal"
           },
           "missingValuesAsZero": true,
           "numberFormat": "0,0.[00000]",
           "percentFormat": "0[.]00%",
           "series": {
            "error_y": {
             "type": "data",
             "visible": true
            },
            "stacking": null
           },
           "seriesOptions": {
            "column_3866fbff717": {
             "name": "Day_Index",
             "type": "line",
             "yAxis": 0
            },
            "column_3866fbff718": {
             "name": "prediction",
             "type": "line",
             "yAxis": 0
            }
           },
           "showDataLabels": false,
           "sizemode": "diameter",
           "sortX": true,
           "sortY": true,
           "swappedAxes": false,
           "textFormat": "",
           "useAggregationsUi": true,
           "valuesOptions": {},
           "version": 2,
           "xAxis": {
            "labels": {
             "enabled": true
            },
            "type": "-"
           },
           "yAxis": [
            {
             "type": "-"
            },
            {
             "opposite": true,
             "type": "-"
            }
           ]
          }
         }
        ]
       },
       "datasetPreviewNameToCmdIdMap": {},
       "diffDeletes": [],
       "diffInserts": [],
       "displayType": "redashChart",
       "error": null,
       "errorDetails": null,
       "errorSummary": null,
       "errorTraceType": null,
       "finishTime": 0,
       "globalVars": {},
       "guid": "",
       "height": "auto",
       "hideCommandCode": false,
       "hideCommandResult": false,
       "iPythonMetadata": null,
       "inputWidgets": {},
       "isLockedInExamMode": false,
       "latestUser": "a user",
       "latestUserId": null,
       "listResultMetadata": null,
       "metadata": {
        "byteLimit": 2048000,
        "rowLimit": 10000
       },
       "nuid": "aa369ba3-6ddd-4da2-ab1c-fcec776600e6",
       "origId": 0,
       "parentHierarchy": [],
       "pivotAggregation": null,
       "pivotColumns": null,
       "position": 14.75,
       "resultDbfsErrorMessage": null,
       "resultDbfsStatus": "INLINED_IN_TREE",
       "results": null,
       "showCommandTitle": false,
       "startTime": 0,
       "state": "finished",
       "streamStates": {},
       "subcommandOptions": {
        "queryPlan": {
         "groups": [
          {
           "column": "Day_Index",
           "type": "column"
          }
         ],
         "selects": [
          {
           "alias": "column_3866fbff718",
           "args": [
            {
             "column": "prediction",
             "type": "column"
            }
           ],
           "function": "SUM",
           "type": "function"
          },
          {
           "column": "Day_Index",
           "type": "column"
          }
         ]
        }
       },
       "submitTime": 0,
       "subtype": "tableResultSubCmd.visualization",
       "tableResultIndex": 0,
       "tableResultSettingsMap": {},
       "useConsistentColors": false,
       "version": "CommandV1",
       "width": "auto",
       "workflows": [],
       "xColumns": null,
       "yColumns": null
      }
     },
     "output_type": "display_data"
    },
    {
     "output_type": "display_data",
     "data": {
      "image/png": "[encoded data removed]",
      "text/plain": [
       "<Figure size 1000x500 with 1 Axes>"
      ]
     },
     "metadata": {},
     "output_type": "display_data"
    }
   ],
   "source": [
    "\n",
    "# Convert Spark predictions to Pandas DataFrame\n",
    "predicted_data = predictions.select(\"Day_Index\", \"prediction\").toPandas()\n",
    "\n",
    "# Add future dates if needed\n",
    "from datetime import datetime, timedelta\n",
    "future_dates = [(datetime.today() + timedelta(days=i)) for i in range(1, 8)]\n",
    "predicted_data[\"Date\"] = future_dates\n",
    "display(predicted_data)\n",
    "# Plot\n",
    "plt.figure(figsize=(10, 5))\n",
    "plt.plot(predicted_data[\"Date\"], predicted_data[\"prediction\"], marker='o', linestyle='-')\n",
    "plt.title(\"Forecasted Daily Sales for Next 7 Days\")\n",
    "plt.xlabel(\"Date\")\n",
    "plt.ylabel(\"Predicted Sales\")\n",
    "plt.xticks(rotation=45)\n",
    "plt.grid(True)\n",
    "plt.tight_layout()\n",
    "plt.show()"
   ]
  },
  {
   "cell_type": "code",
   "execution_count": 0,
   "metadata": {
    "application/vnd.databricks.v1+cell": {
     "cellMetadata": {
      "byteLimit": 2048000,
      "rowLimit": 10000
     },
     "inputWidgets": {},
     "nuid": "f1f947da-1269-47e1-b684-473b5e0de0ce",
     "showTitle": false,
     "tableResultSettingsMap": {},
     "title": ""
    }
   },
   "outputs": [],
   "source": [
    "jdbc_url = \"jdbc:sqlserver://geeta.database.windows.net:1433;databaseName=db_dev\"\n",
    "\n",
    "connection_properties = {\n",
    "    \"user\": \"geeta@geeta\",  \n",
    "    \"password\": \"Chaitu@13\",  \n",
    "    \"driver\": \"com.microsoft.sqlserver.jdbc.SQLServerDriver\"\n",
    "}\n",
    "spark.createDataFrame(predicted_data).write.jdbc(jdbc_url, \"Sales_Forecast\", \"overwrite\", connection_properties)"
   ]
  }
 ],
 "metadata": {
  "application/vnd.databricks.v1+notebook": {
   "computePreferences": null,
   "dashboards": [],
   "environmentMetadata": {
    "base_environment": "",
    "environment_version": "2"
   },
   "inputWidgetPreferences": null,
   "language": "python",
   "notebookMetadata": {
    "pythonIndentUnit": 4
   },
   "notebookName": "3. predictive sales forcasting",
   "widgets": {}
  },
  "language_info": {
   "name": "python"
  }
 },
 "nbformat": 4,
 "nbformat_minor": 0
}