{
 "cells": [
  {
   "cell_type": "code",
   "execution_count": 0,
   "metadata": {
    "application/vnd.databricks.v1+cell": {
     "cellMetadata": {
      "byteLimit": 2048000,
      "rowLimit": 10000
     },
     "inputWidgets": {},
     "nuid": "29e0261e-4238-4f69-b75b-37c38a4a442c",
     "showTitle": false,
     "tableResultSettingsMap": {},
     "title": ""
    }
   },
   "outputs": [],
   "source": [
    "from pyspark.sql import SparkSession\n",
    "\n",
    "spark = SparkSession.builder.getOrCreate()\n",
    "\n",
    "sales_df = spark.read.format(\"delta\").load(\"/mnt/cleaned_data/sales_df\")\n",
    "segment_df = spark.read.format(\"delta\").load(\"/mnt/cleaned_data/segment_df\")\n",
    "profile_df = spark.read.format(\"delta\").load(\"/mnt/cleaned_data/profile_df\")"
   ]
  },
  {
   "cell_type": "code",
   "execution_count": 0,
   "metadata": {
    "application/vnd.databricks.v1+cell": {
     "cellMetadata": {
      "byteLimit": 2048000,
      "rowLimit": 10000
     },
     "inputWidgets": {},
     "nuid": "877af1f4-9018-46e9-979b-933b22789d66",
     "showTitle": false,
     "tableResultSettingsMap": {},
     "title": ""
    }
   },
   "outputs": [
    {
     "output_type": "stream",
     "name": "stdout",
     "output_type": "stream",
     "text": [
      "+------+----------------+\n|Region|Unique_Customers|\n+------+----------------+\n| South|             226|\n|  East|             263|\n|  West|             244|\n| North|             267|\n+------+----------------+\n\n+----------------+------------------+\n|Product_Category|     Total_Revenue|\n+----------------+------------------+\n|        Clothing|1313474.3599999999|\n|       Furniture|1260517.6900000002|\n|     Electronics|1243499.6400000006|\n|            Food|1201773.5399999998|\n+----------------+------------------+\n\n+---------+-----------+------------------+\n|Sales_Rep|Total_Sales|           Revenue|\n+---------+-----------+------------------+\n|    David|        222|1141737.3599999996|\n|      Bob|        208|1080990.6300000006|\n|      Eve|        209| 970183.9900000002|\n|    Alice|        192| 965541.7700000005|\n|  Charlie|        169|         860811.48|\n+---------+-----------+------------------+\n\n"
     ]
    }
   ],
   "source": [
    "# Register as temp tables\n",
    "sales_df.createOrReplaceTempView(\"sales\")\n",
    "segment_df.createOrReplaceTempView(\"segments\")\n",
    "profile_df.createOrReplaceTempView(\"profiles\")\n",
    "\n",
    "\n",
    "spark.sql(\"\"\"\n",
    "SELECT Region, COUNT(DISTINCT Customer_ID) AS Unique_Customers\n",
    "FROM sales\n",
    "GROUP BY Region\n",
    "\"\"\").show()\n",
    "\n",
    "spark.sql(\"\"\"\n",
    "SELECT Product_Category, SUM(Sales_Amount) AS Total_Revenue\n",
    "FROM sales\n",
    "GROUP BY Product_Category\n",
    "ORDER BY Total_Revenue DESC\n",
    "\"\"\").show()\n",
    "\n",
    "spark.sql(\"\"\"\n",
    "SELECT Sales_Rep, COUNT(*) AS Total_Sales, SUM(Sales_Amount) AS Revenue\n",
    "FROM sales\n",
    "GROUP BY Sales_Rep\n",
    "ORDER BY Revenue DESC\n",
    "\"\"\").show()"
   ]
  }
 ],
 "metadata": {
  "application/vnd.databricks.v1+notebook": {
   "computePreferences": null,
   "dashboards": [],
   "environmentMetadata": {
    "base_environment": "",
    "environment_version": "2"
   },
   "inputWidgetPreferences": null,
   "language": "python",
   "notebookMetadata": {
    "pythonIndentUnit": 4
   },
   "notebookName": "2.kpi examples",
   "widgets": {}
  },
  "language_info": {
   "name": "python"
  }
 },
 "nbformat": 4,
 "nbformat_minor": 0
}